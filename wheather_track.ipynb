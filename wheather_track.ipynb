{
  "nbformat": 4,
  "nbformat_minor": 0,
  "metadata": {
    "colab": {
      "name": "wheather_track.ipynb",
      "provenance": [],
      "collapsed_sections": []
    },
    "kernelspec": {
      "name": "python3",
      "display_name": "Python 3"
    },
    "language_info": {
      "name": "python"
    }
  },
  "cells": [
    {
      "cell_type": "code",
      "metadata": {
        "colab": {
          "base_uri": "https://localhost:8080/"
        },
        "id": "bnZgpXP02eAX",
        "outputId": "e4a44aa6-c15e-4bb6-a755-e40d6db8b829"
      },
      "source": [
        "import requests\n",
        "from datetime import datetime\n",
        "api_key = '3ec2b25c99302776ea68f059e384c8c6'\n",
        "location = input(\"Enter the city name : \")\n",
        "\n",
        "\n",
        "complete_api_link = \"https://api.openweathermap.org/data/2.5/weather?q=\"+location+\"&appid=\"+api_key\n",
        "api_link = requests.get(complete_api_link)\n",
        "api_data = api_link.json()\n",
        "\n",
        "temp_city = ((api_data['main']['temp']) -273.15)\n",
        "weather_desc = api_data['weather'][0]['description']\n",
        "hmdt = api_data['main']['humidity']\n",
        "wind_spd = api_data['wind']['speed']\n",
        "print (\"______________________________________________________\")\n",
        "print (\"Weather Status for \"+location)\n",
        "print (\"______________________________________________________\")\n",
        "\n",
        "\n",
        "print (\"Current temperature is :{:.2f} deg C\".format(temp_city))\n",
        "print (\"Current weather desc   :\",weather_desc)\n",
        "print (\"Current Humidity       :\",hmdt, '%')\n",
        "print (\"Current Wind Speed     :\",wind_spd ,'kmph')\n"
      ],
      "execution_count": 5,
      "outputs": [
        {
          "output_type": "stream",
          "text": [
            "Enter the city name : kerala\n",
            "______________________________________________________\n",
            "Weather Status for kerala\n",
            "______________________________________________________\n",
            "Current temperature is :27.82 deg C\n",
            "Current weather desc   : moderate rain\n",
            "Current Humidity       : 91 %\n",
            "Current Wind Speed     : 1.99 kmph\n"
          ],
          "name": "stdout"
        }
      ]
    }
  ]
}